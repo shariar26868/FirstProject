{
  "nbformat": 4,
  "nbformat_minor": 0,
  "metadata": {
    "colab": {
      "name": "CSE111_L02_String_List.ipynb",
      "provenance": [],
      "collapsed_sections": [],
      "include_colab_link": true
    },
    "kernelspec": {
      "name": "python3",
      "display_name": "Python 3"
    },
    "language_info": {
      "name": "python"
    }
  },
  "cells": [
    {
      "cell_type": "markdown",
      "metadata": {
        "id": "view-in-github",
        "colab_type": "text"
      },
      "source": [
        "<a href=\"https://colab.research.google.com/github/shariar26868/FirstProject/blob/main/CSE111_L02_String_List.ipynb\" target=\"_parent\"><img src=\"https://colab.research.google.com/assets/colab-badge.svg\" alt=\"Open In Colab\"/></a>"
      ]
    },
    {
      "cell_type": "code",
      "execution_count": null,
      "metadata": {
        "id": "fcUyFJQKmSGJ"
      },
      "outputs": [],
      "source": [
        "# A string is a sequence of characters. This sequence can be a combination of letters, numbers and\n",
        "#special characters. However, computers cannot understand any of these characters except 0s and\n",
        "# 1s. Therefore, all of these characters in Python are converted using the popular Unicode\n",
        "# encoding technique and hence it is called a sequence of Unicode characters.\n",
        "\n",
        "\n",
        "# Multiline Strings are represented using triple quotes. For example:\n",
        "#\t'''Welcome to Python.\n",
        "#\tToday we are going to learn Strings.\n",
        "#\tAre you excited?'''\n"
      ]
    },
    {
      "cell_type": "code",
      "source": [
        "#A single character is also a String. For example:\n",
        "#\t'P' or \"P\" is not a character, it is a String."
      ],
      "metadata": {
        "id": "IIlGALpXmqZL"
      },
      "execution_count": null,
      "outputs": []
    },
    {
      "cell_type": "code",
      "source": [
        "temp = 'P'\n",
        "temp2 = \"P\"\n",
        "\n",
        "print(type(temp))\n",
        "print(type(temp2))"
      ],
      "metadata": {
        "colab": {
          "base_uri": "https://localhost:8080/"
        },
        "id": "m5VjtUs0m4Hr",
        "outputId": "5d61bd6e-a882-4b13-b60e-9dcfcb3ea408"
      },
      "execution_count": null,
      "outputs": [
        {
          "output_type": "stream",
          "name": "stdout",
          "text": [
            "<class 'str'>\n",
            "<class 'str'>\n"
          ]
        }
      ]
    },
    {
      "cell_type": "code",
      "source": [
        "# Case sensitive. For example:\n",
        "#\t\"A\" and \"a\" are two different Strings."
      ],
      "metadata": {
        "id": "_6-EPNS9nBRs"
      },
      "execution_count": null,
      "outputs": []
    },
    {
      "cell_type": "code",
      "source": [
        "temp = 'P'\n",
        "temp2 = 'p'\n",
        "\n",
        "print(temp==temp2)"
      ],
      "metadata": {
        "colab": {
          "base_uri": "https://localhost:8080/"
        },
        "id": "4CZdr-8SnFPS",
        "outputId": "14012022-de17-4900-da64-c237dd159201"
      },
      "execution_count": null,
      "outputs": [
        {
          "output_type": "stream",
          "name": "stdout",
          "text": [
            "False\n"
          ]
        }
      ]
    },
    {
      "cell_type": "code",
      "source": [
        "# Space is also a String. For example:\n",
        "#\t\" \" or ' ' is a String"
      ],
      "metadata": {
        "id": "_5UYxWFgnKrC"
      },
      "execution_count": null,
      "outputs": []
    },
    {
      "cell_type": "code",
      "source": [
        "temp_space = \" \"\n",
        "temp_space_2 = \"\"\n",
        "\n",
        "print(type(temp_space))\n",
        "print(type(temp_space_2))"
      ],
      "metadata": {
        "colab": {
          "base_uri": "https://localhost:8080/"
        },
        "id": "QTE8FvIrnOov",
        "outputId": "b29903ff-444e-4d01-f1e5-10ba6ac956f6"
      },
      "execution_count": null,
      "outputs": [
        {
          "output_type": "stream",
          "name": "stdout",
          "text": [
            "<class 'str'>\n",
            "<class 'str'>\n"
          ]
        }
      ]
    },
    {
      "cell_type": "markdown",
      "source": [
        "# Indexing"
      ],
      "metadata": {
        "id": "MF0pNeM4shxL"
      }
    },
    {
      "cell_type": "code",
      "source": [
        "\"\"\"\n",
        "INDEXING : \n",
        "\n",
        "All the characters of a string can be accessed using the indexing technique. \n",
        "Indexing ALWAYS starts at 0. \n",
        "Therefore, the indexing of a string is always within a finite range based on the length of the string. \n",
        "Trying to access a character out of the index range will raise an IndexError. \n",
        "The index must also be an integer. \n",
        "We cannot use floats or other types, this will result\n",
        "into TypeError. Interestingly python allows negative indexing for its sequences. \n",
        "The last character of a string is indexed as -1, the second last as -2 and so on. \n",
        "Important Note: Space is also a character and indexed.\n",
        "\"\"\""
      ],
      "metadata": {
        "colab": {
          "base_uri": "https://localhost:8080/",
          "height": 72
        },
        "id": "t6mAP4MrndQc",
        "outputId": "557d8b8b-7508-47a1-c614-f6dccfdb3b9e"
      },
      "execution_count": null,
      "outputs": [
        {
          "output_type": "execute_result",
          "data": {
            "text/plain": [
              "'\\nINDEXING : \\n\\nAll the characters of a string can be accessed using the indexing technique. \\nIndexing ALWAYS starts at 0. \\nTherefore, the indexing of a string is always within a finite range based on the length of the string. \\nTrying to access a character out of the index range will raise an IndexError. \\nThe index must also be an integer. \\nWe cannot use floats or other types, this will result\\ninto TypeError. Interestingly python allows negative indexing for its sequences. \\nThe last character of a string is indexed as -1, the second last as -2 and so on. \\nImportant Note: Space is also a character and indexed.\\n'"
            ],
            "application/vnd.google.colaboratory.intrinsic+json": {
              "type": "string"
            }
          },
          "metadata": {},
          "execution_count": 8
        }
      ]
    },
    {
      "cell_type": "markdown",
      "source": [
        "![2022-06-02_05-47_Indexing.png](data:image/png;base64,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)"
      ],
      "metadata": {
        "id": "Qs5UZpRJq3t1"
      }
    },
    {
      "cell_type": "code",
      "source": [
        "s = \"I am Baymax\""
      ],
      "metadata": {
        "id": "iHHNUTmIq-1E"
      },
      "execution_count": null,
      "outputs": []
    },
    {
      "cell_type": "code",
      "source": [
        "len_s = len(s)\n",
        "print(len_s)"
      ],
      "metadata": {
        "colab": {
          "base_uri": "https://localhost:8080/"
        },
        "id": "mb6dJmx8rQVP",
        "outputId": "25d283c5-a04d-42b9-cdb1-a1a0e08c0f02"
      },
      "execution_count": null,
      "outputs": [
        {
          "output_type": "stream",
          "name": "stdout",
          "text": [
            "11\n"
          ]
        }
      ]
    },
    {
      "cell_type": "code",
      "source": [
        "print(s[-1])"
      ],
      "metadata": {
        "colab": {
          "base_uri": "https://localhost:8080/"
        },
        "id": "47395BB4rUZj",
        "outputId": "f410c6ce-c1e4-4f18-e491-bcaf151200fb"
      },
      "execution_count": null,
      "outputs": [
        {
          "output_type": "stream",
          "name": "stdout",
          "text": [
            "x\n"
          ]
        }
      ]
    },
    {
      "cell_type": "code",
      "source": [
        "print(s[len(s)-1])"
      ],
      "metadata": {
        "colab": {
          "base_uri": "https://localhost:8080/"
        },
        "id": "m_6fZ0xprXxw",
        "outputId": "5918d954-1115-4a70-8309-fb2117d89fa4"
      },
      "execution_count": null,
      "outputs": [
        {
          "output_type": "stream",
          "name": "stdout",
          "text": [
            "x\n"
          ]
        }
      ]
    },
    {
      "cell_type": "code",
      "source": [
        "# Mutability of String\n",
        "# Strings are immutable."
      ],
      "metadata": {
        "id": "cS-rg_Gmrk0n"
      },
      "execution_count": null,
      "outputs": []
    },
    {
      "cell_type": "code",
      "source": [
        "#Once a String is created the characters in it cannot be changed/deleted.\n",
        "\n",
        "s = \"CSE111 Section 02\"\n",
        "s[5] = '0'"
      ],
      "metadata": {
        "colab": {
          "base_uri": "https://localhost:8080/",
          "height": 208
        },
        "id": "ca6Vkilhrzug",
        "outputId": "0f07d525-01ea-4c96-8ecf-d7b09d344ce4"
      },
      "execution_count": null,
      "outputs": [
        {
          "output_type": "error",
          "ename": "TypeError",
          "evalue": "ignored",
          "traceback": [
            "\u001b[0;31m---------------------------------------------------------------------------\u001b[0m",
            "\u001b[0;31mTypeError\u001b[0m                                 Traceback (most recent call last)",
            "\u001b[0;32m<ipython-input-15-757ba69fef7b>\u001b[0m in \u001b[0;36m<module>\u001b[0;34m()\u001b[0m\n\u001b[1;32m      2\u001b[0m \u001b[0;34m\u001b[0m\u001b[0m\n\u001b[1;32m      3\u001b[0m \u001b[0ms\u001b[0m \u001b[0;34m=\u001b[0m \u001b[0;34m\"CSE111 Section 02\"\u001b[0m\u001b[0;34m\u001b[0m\u001b[0;34m\u001b[0m\u001b[0m\n\u001b[0;32m----> 4\u001b[0;31m \u001b[0ms\u001b[0m\u001b[0;34m[\u001b[0m\u001b[0;36m5\u001b[0m\u001b[0;34m]\u001b[0m \u001b[0;34m=\u001b[0m \u001b[0;34m'0'\u001b[0m\u001b[0;34m\u001b[0m\u001b[0;34m\u001b[0m\u001b[0m\n\u001b[0m",
            "\u001b[0;31mTypeError\u001b[0m: 'str' object does not support item assignment"
          ]
        }
      ]
    },
    {
      "cell_type": "code",
      "source": [
        "# But you can change the entire string\n",
        "\n",
        "s = \"CSE111 Section 02\"\n",
        "print(s)\n",
        "s = \"CSE110 Section 02\"\n",
        "print(s)"
      ],
      "metadata": {
        "colab": {
          "base_uri": "https://localhost:8080/"
        },
        "id": "aj51W4q-sF6H",
        "outputId": "41b4cf06-dde1-4e97-a2ba-87e7ab256963"
      },
      "execution_count": null,
      "outputs": [
        {
          "output_type": "stream",
          "name": "stdout",
          "text": [
            "CSE111 Section 02\n",
            "CSE110 Section 02\n"
          ]
        }
      ]
    },
    {
      "cell_type": "code",
      "source": [
        ""
      ],
      "metadata": {
        "id": "a96Jw7jDsTxJ"
      },
      "execution_count": null,
      "outputs": []
    },
    {
      "cell_type": "markdown",
      "source": [
        "# Iterating over String"
      ],
      "metadata": {
        "id": "lY366839sZMF"
      }
    },
    {
      "cell_type": "code",
      "source": [
        "# Using 'while' loop:\n",
        "\n",
        "index = 0\n",
        "s = \"I am Baymax\"\n",
        "\n",
        "while index<len(s):\n",
        "    print(s[index])\n",
        "    index += 1"
      ],
      "metadata": {
        "colab": {
          "base_uri": "https://localhost:8080/"
        },
        "id": "_DGBvEvxsa7B",
        "outputId": "2405a291-f0ca-4fef-f744-21c4f228970d"
      },
      "execution_count": null,
      "outputs": [
        {
          "output_type": "stream",
          "name": "stdout",
          "text": [
            "I\n",
            " \n",
            "a\n",
            "m\n",
            " \n",
            "B\n",
            "a\n",
            "y\n",
            "m\n",
            "a\n",
            "x\n"
          ]
        }
      ]
    },
    {
      "cell_type": "code",
      "source": [
        "# Using 'for' loop\n",
        "\n",
        "s = \"I am Baymax\"\n",
        "for char in s:\n",
        "    print(char)"
      ],
      "metadata": {
        "colab": {
          "base_uri": "https://localhost:8080/"
        },
        "id": "bOwQFmpWul7g",
        "outputId": "760a00a4-ce36-4d73-946b-0a00e760eac9"
      },
      "execution_count": null,
      "outputs": [
        {
          "output_type": "stream",
          "name": "stdout",
          "text": [
            "I\n",
            " \n",
            "a\n",
            "m\n",
            " \n",
            "B\n",
            "a\n",
            "y\n",
            "m\n",
            "a\n",
            "x\n"
          ]
        }
      ]
    },
    {
      "cell_type": "markdown",
      "source": [
        "# String Operation"
      ],
      "metadata": {
        "id": "piRAo6Aouxa7"
      }
    },
    {
      "cell_type": "code",
      "source": [
        "# String Operations (Concatenation)"
      ],
      "metadata": {
        "id": "tAKtCRpwu0In"
      },
      "execution_count": null,
      "outputs": []
    },
    {
      "cell_type": "code",
      "source": [
        "# '+' operator to concat/merge two Strings."
      ],
      "metadata": {
        "id": "Xru7NOaJu1lD"
      },
      "execution_count": null,
      "outputs": []
    },
    {
      "cell_type": "code",
      "source": [
        "s = \"Hello there.\"\n",
        "s = s + \"I am Baymax.\"\n",
        "print(s)"
      ],
      "metadata": {
        "colab": {
          "base_uri": "https://localhost:8080/"
        },
        "id": "iqL_wwS8u5eT",
        "outputId": "26494108-34a1-4e70-c34a-2f89646e7501"
      },
      "execution_count": null,
      "outputs": [
        {
          "output_type": "stream",
          "name": "stdout",
          "text": [
            "Hello there.I am Baymax.\n"
          ]
        }
      ]
    },
    {
      "cell_type": "code",
      "source": [
        "s2 = \"Hello\"\n",
        "s2 = s + \" \" + \"there.\" + \" \" + \"I am Baymax.\"\n",
        "print(s2)"
      ],
      "metadata": {
        "colab": {
          "base_uri": "https://localhost:8080/"
        },
        "id": "VSpHAFoWvCYi",
        "outputId": "c747bf79-18a7-46fc-dda3-a74e926aaeee"
      },
      "execution_count": null,
      "outputs": [
        {
          "output_type": "stream",
          "name": "stdout",
          "text": [
            "Hello there.I am Baymax. there. I am Baymax.\n"
          ]
        }
      ]
    },
    {
      "cell_type": "code",
      "source": [
        "# String Operations (Deletion)"
      ],
      "metadata": {
        "id": "PU3il2M90spL"
      },
      "execution_count": null,
      "outputs": []
    },
    {
      "cell_type": "code",
      "source": [
        "# 'del' keyword to unbind reference to a String."
      ],
      "metadata": {
        "id": "Zy4U068Q0tjN"
      },
      "execution_count": null,
      "outputs": []
    },
    {
      "cell_type": "code",
      "source": [
        "s = \"I am Baymax.\"\n",
        "print(s)\n",
        "del(s)\n",
        "print(s)"
      ],
      "metadata": {
        "colab": {
          "base_uri": "https://localhost:8080/",
          "height": 226
        },
        "id": "qAcpXHKI02cm",
        "outputId": "a2a40663-7cdc-4af6-cf47-76a732f954cd"
      },
      "execution_count": null,
      "outputs": [
        {
          "output_type": "stream",
          "name": "stdout",
          "text": [
            "I am Baymax.\n"
          ]
        },
        {
          "output_type": "error",
          "ename": "NameError",
          "evalue": "ignored",
          "traceback": [
            "\u001b[0;31m---------------------------------------------------------------------------\u001b[0m",
            "\u001b[0;31mNameError\u001b[0m                                 Traceback (most recent call last)",
            "\u001b[0;32m<ipython-input-23-bee3f6d0e44d>\u001b[0m in \u001b[0;36m<module>\u001b[0;34m()\u001b[0m\n\u001b[1;32m      2\u001b[0m \u001b[0mprint\u001b[0m\u001b[0;34m(\u001b[0m\u001b[0ms\u001b[0m\u001b[0;34m)\u001b[0m\u001b[0;34m\u001b[0m\u001b[0;34m\u001b[0m\u001b[0m\n\u001b[1;32m      3\u001b[0m \u001b[0;32mdel\u001b[0m\u001b[0;34m(\u001b[0m\u001b[0ms\u001b[0m\u001b[0;34m)\u001b[0m\u001b[0;34m\u001b[0m\u001b[0;34m\u001b[0m\u001b[0m\n\u001b[0;32m----> 4\u001b[0;31m \u001b[0mprint\u001b[0m\u001b[0;34m(\u001b[0m\u001b[0ms\u001b[0m\u001b[0;34m)\u001b[0m\u001b[0;34m\u001b[0m\u001b[0;34m\u001b[0m\u001b[0m\n\u001b[0m",
            "\u001b[0;31mNameError\u001b[0m: name 's' is not defined"
          ]
        }
      ]
    },
    {
      "cell_type": "code",
      "source": [
        "# But 'del' cannot delete a character from a String (Immutability)"
      ],
      "metadata": {
        "id": "fimuNXOQ07_S"
      },
      "execution_count": null,
      "outputs": []
    },
    {
      "cell_type": "code",
      "source": [
        "s = \"I am Baymax.\"\n",
        "del s[0]"
      ],
      "metadata": {
        "colab": {
          "base_uri": "https://localhost:8080/",
          "height": 190
        },
        "id": "Ge9HR2wg0_9R",
        "outputId": "c0026db1-11cc-48c5-ed56-b11aa65bcf69"
      },
      "execution_count": null,
      "outputs": [
        {
          "output_type": "error",
          "ename": "TypeError",
          "evalue": "ignored",
          "traceback": [
            "\u001b[0;31m---------------------------------------------------------------------------\u001b[0m",
            "\u001b[0;31mTypeError\u001b[0m                                 Traceback (most recent call last)",
            "\u001b[0;32m<ipython-input-24-0f4abc9d9ab3>\u001b[0m in \u001b[0;36m<module>\u001b[0;34m()\u001b[0m\n\u001b[1;32m      1\u001b[0m \u001b[0ms\u001b[0m \u001b[0;34m=\u001b[0m \u001b[0;34m\"I am Baymax.\"\u001b[0m\u001b[0;34m\u001b[0m\u001b[0;34m\u001b[0m\u001b[0m\n\u001b[0;32m----> 2\u001b[0;31m \u001b[0;32mdel\u001b[0m \u001b[0ms\u001b[0m\u001b[0;34m[\u001b[0m\u001b[0;36m0\u001b[0m\u001b[0;34m]\u001b[0m\u001b[0;34m\u001b[0m\u001b[0;34m\u001b[0m\u001b[0m\n\u001b[0m",
            "\u001b[0;31mTypeError\u001b[0m: 'str' object doesn't support item deletion"
          ]
        }
      ]
    },
    {
      "cell_type": "code",
      "source": [
        "# String Operations (Repetition)"
      ],
      "metadata": {
        "id": "YH6KUwfp1J1r"
      },
      "execution_count": null,
      "outputs": []
    },
    {
      "cell_type": "code",
      "source": [
        "s = \"I am Baymax.\"\n",
        "print(s * 4)"
      ],
      "metadata": {
        "colab": {
          "base_uri": "https://localhost:8080/"
        },
        "id": "ORSIaHWT1Lzq",
        "outputId": "41724ea7-8707-4202-db27-13e21771e247"
      },
      "execution_count": null,
      "outputs": [
        {
          "output_type": "stream",
          "name": "stdout",
          "text": [
            "I am Baymax.I am Baymax.I am Baymax.I am Baymax.\n"
          ]
        }
      ]
    },
    {
      "cell_type": "code",
      "source": [
        "for x in range(0, 4):\n",
        "    print(\"Hello!\")"
      ],
      "metadata": {
        "colab": {
          "base_uri": "https://localhost:8080/"
        },
        "id": "jKtjRpF01QdU",
        "outputId": "f8566289-58a5-43bf-92c5-72b0a1dc249a"
      },
      "execution_count": null,
      "outputs": [
        {
          "output_type": "stream",
          "name": "stdout",
          "text": [
            "Hello!\n",
            "Hello!\n",
            "Hello!\n",
            "Hello!\n"
          ]
        }
      ]
    },
    {
      "cell_type": "code",
      "source": [
        "# String Operations (Slicing)"
      ],
      "metadata": {
        "id": "JdV3BtNU1cu8"
      },
      "execution_count": null,
      "outputs": []
    },
    {
      "cell_type": "code",
      "source": [
        "# Slicing in Python is a feature that enables accessing parts of sequences like strings, tuples, and lists.\n",
        "# In case of String, slicing means creating a substring from a String.\n",
        "\n",
        "# Syntax:\n",
        "# String[start: stop: step]\n",
        "# start: From which index to start, inclusive. If not set, default value is 0\n",
        "# stop: At which index to stop slicing, exclusive. If not set, default value is last index of the String\n",
        "# step: Optional. How many step to take. If not set, default value is 1. "
      ],
      "metadata": {
        "id": "mNkKEet81edL"
      },
      "execution_count": null,
      "outputs": []
    },
    {
      "cell_type": "markdown",
      "source": [
        "![2022-06-02_05-47_Indexing.png](data:image/png;base64,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)"
      ],
      "metadata": {
        "id": "upnkJgrM10K-"
      }
    },
    {
      "cell_type": "code",
      "source": [
        "s = \"I am Baymax\" \n",
        "print(s[2:4])\n",
        "print(s[:4])\n",
        "print(s[5:])\n",
        "print(s[:])\n",
        "print(s[2:9:2])\n",
        "print(s[9:5:-1])"
      ],
      "metadata": {
        "colab": {
          "base_uri": "https://localhost:8080/"
        },
        "id": "2_7oD7rB1tOS",
        "outputId": "a40d43a3-222b-4b02-8e77-9192908ce2c7"
      },
      "execution_count": null,
      "outputs": [
        {
          "output_type": "stream",
          "name": "stdout",
          "text": [
            "am\n",
            "I am\n",
            "Baymax\n",
            "I am Baymax\n",
            "a am\n",
            "amya\n"
          ]
        }
      ]
    },
    {
      "cell_type": "code",
      "source": [
        "# Checking String Membership"
      ],
      "metadata": {
        "id": "XkIpf1X02Pt9"
      },
      "execution_count": null,
      "outputs": []
    },
    {
      "cell_type": "code",
      "source": [
        "# Useing ‘in’ keyword to find whether a String is present inside another String or not."
      ],
      "metadata": {
        "id": "P6ptfc8l2Wj_"
      },
      "execution_count": null,
      "outputs": []
    },
    {
      "cell_type": "code",
      "source": [
        "s1 = \"I am Baymax\"\n",
        "s2 = \"am\"\n",
        "\n",
        "print(s2 in s1)"
      ],
      "metadata": {
        "colab": {
          "base_uri": "https://localhost:8080/"
        },
        "id": "sIZbkJ_T2ZlR",
        "outputId": "5ddbb72b-d000-4697-b6f9-f68502f591c5"
      },
      "execution_count": null,
      "outputs": [
        {
          "output_type": "stream",
          "name": "stdout",
          "text": [
            "True\n"
          ]
        }
      ]
    },
    {
      "cell_type": "code",
      "source": [
        "s3 = \"Hello\"\n",
        "print(s3 in s2)"
      ],
      "metadata": {
        "colab": {
          "base_uri": "https://localhost:8080/"
        },
        "id": "apm6elWO3LXi",
        "outputId": "373a1b56-f135-4bf5-ea6d-0ff6b5441773"
      },
      "execution_count": null,
      "outputs": [
        {
          "output_type": "stream",
          "name": "stdout",
          "text": [
            "False\n"
          ]
        }
      ]
    },
    {
      "cell_type": "code",
      "source": [
        "# Used in 'if' statement as condition."
      ],
      "metadata": {
        "id": "e9gtvp4G3QkR"
      },
      "execution_count": null,
      "outputs": []
    },
    {
      "cell_type": "code",
      "source": [
        "s1 = \"I am Baymax\"\n",
        "s2 = \"am\"\n",
        "if s2 in s1:\n",
        "    print(\"Found\")\n",
        "else:\n",
        "    print(\"Not found\")"
      ],
      "metadata": {
        "colab": {
          "base_uri": "https://localhost:8080/"
        },
        "id": "6ebw4PHN3Vuz",
        "outputId": "cd6cac6f-adcf-48a8-ead7-2ae015eb2d4f"
      },
      "execution_count": null,
      "outputs": [
        {
          "output_type": "stream",
          "name": "stdout",
          "text": [
            "Found\n"
          ]
        }
      ]
    },
    {
      "cell_type": "markdown",
      "source": [
        "# Escape Sequence"
      ],
      "metadata": {
        "id": "KdKD3LXy34a4"
      }
    },
    {
      "cell_type": "code",
      "source": [
        "s = \"I loved the movie 'Big Hero 6'\"\n",
        "\n",
        "s2 = 'I loved the movie \"Big Hero 6\"'\n",
        "\n",
        "print(s)\n",
        "print(s2)"
      ],
      "metadata": {
        "colab": {
          "base_uri": "https://localhost:8080/"
        },
        "id": "zhJ89bTo36EZ",
        "outputId": "6c9e776e-4f46-455b-df93-fee408a11ac7"
      },
      "execution_count": null,
      "outputs": [
        {
          "output_type": "stream",
          "name": "stdout",
          "text": [
            "I loved the movie 'Big Hero 6'\n",
            "I loved the movie \"Big Hero 6\"\n"
          ]
        }
      ]
    },
    {
      "cell_type": "code",
      "source": [
        "# Better solution to the previously mentioned problem is using Escape sequence( \\ ).\n",
        "# If you have some special character inside your String that might confuse the interpreter, you can use escape sequence to clarify."
      ],
      "metadata": {
        "id": "JW_auQYi4Lbb"
      },
      "execution_count": null,
      "outputs": []
    },
    {
      "cell_type": "code",
      "source": [
        "s = \"I loved the movie \\\"Big Hero 6\\\"\"\n",
        "print(s)"
      ],
      "metadata": {
        "colab": {
          "base_uri": "https://localhost:8080/"
        },
        "id": "_QmCU0Ss4P8J",
        "outputId": "67bda8da-f3bd-4415-929d-9fff6117ff89"
      },
      "execution_count": null,
      "outputs": [
        {
          "output_type": "stream",
          "name": "stdout",
          "text": [
            "I loved the movie \"Big Hero 6\"\n"
          ]
        }
      ]
    },
    {
      "cell_type": "markdown",
      "source": [
        "# Formatting String"
      ],
      "metadata": {
        "id": "trI_3G4t4Wjy"
      }
    },
    {
      "cell_type": "code",
      "source": [
        "# Use format() function  to format Strings.\n",
        "# format() is a powerful and versatile function."
      ],
      "metadata": {
        "id": "3cP43cyr4Zi5"
      },
      "execution_count": null,
      "outputs": []
    },
    {
      "cell_type": "code",
      "source": [
        "s = \"Hello {}, I am {}.\".format(\"Bob\", \"Alice\")\n",
        "print(s) \n",
        "s = \"Hello {0}, I am {1}.\".format(\"Bob\", \"Alice\")\n",
        "print(s)\n",
        "s = \"Hello {1}, I am {0}.\".format(\"Bob\", \"Alice\")\n",
        "print(s)\n",
        "s = \"Hello {speaker}, I am {ThirdPerson}.\".format(speaker=\"Bob\", ThirdPerson =\"Alice\")\n",
        "print(s)"
      ],
      "metadata": {
        "colab": {
          "base_uri": "https://localhost:8080/"
        },
        "id": "9jeXp9XU4ebB",
        "outputId": "4de6b551-a579-47be-b1f3-c216073c0623"
      },
      "execution_count": null,
      "outputs": [
        {
          "output_type": "stream",
          "name": "stdout",
          "text": [
            "Hello Bob, I am Alice.\n",
            "Hello Bob, I am Alice.\n",
            "Hello Alice, I am Bob.\n",
            "Hello Bob, I am Alice.\n"
          ]
        }
      ]
    },
    {
      "cell_type": "code",
      "source": [
        "# Number formatting\n",
        "# format() function can also used for formatting numbers."
      ],
      "metadata": {
        "id": "c4_s7uan4mZ4"
      },
      "execution_count": null,
      "outputs": []
    },
    {
      "cell_type": "code",
      "source": [
        "s = \"Hello {0}, can you lend me {1:d}$?\".format(\"Bob\", 100)\n",
        "print(s)\n",
        "s = \"I am {0}, {1}. I have only {2:4.2f}$.\".format(\"sorry\", \"Alice\",50.95876)\n",
        "print(s)\n",
        "s = \"Its ok, {}.\".format(\"Bob\")\n",
        "print(s)"
      ],
      "metadata": {
        "colab": {
          "base_uri": "https://localhost:8080/"
        },
        "id": "Ue39gDPj4pBU",
        "outputId": "0ed65028-8ecc-4b1c-df93-52de20420bd8"
      },
      "execution_count": null,
      "outputs": [
        {
          "output_type": "stream",
          "name": "stdout",
          "text": [
            "Hello Bob, can you lend me 100$?\n",
            "I am sorry, Alice. I have only 50.96$.\n",
            "Its ok, Bob.\n"
          ]
        }
      ]
    },
    {
      "cell_type": "code",
      "source": [
        "# Number formatting with alignment"
      ],
      "metadata": {
        "id": "avl0xchdQVoL"
      },
      "execution_count": null,
      "outputs": []
    },
    {
      "cell_type": "code",
      "source": [
        "# format( ) function can also used for formatting numbers with alignment.\n",
        "# <  for left alignment\n",
        "# ^ for center alignment\n",
        "# > for right alignment"
      ],
      "metadata": {
        "id": "Bc9joL_MQWYs"
      },
      "execution_count": null,
      "outputs": []
    },
    {
      "cell_type": "code",
      "source": [
        "print(\"{:<d}\".format(20))\n",
        "print(\"{:^14.3f}\".format(20.1235))\n",
        "print(\"{:>9d}\".format(30))\n",
        "print(\"{:>09d}\".format(30))\n",
        "print(\"{0:<d}|{1:^14.3f}|{2:>9d}\".format(20,20.1235,30))"
      ],
      "metadata": {
        "colab": {
          "base_uri": "https://localhost:8080/"
        },
        "id": "s66KUvNIQcKx",
        "outputId": "57cedf18-e1ab-42a9-b09e-ddb12e947d41"
      },
      "execution_count": null,
      "outputs": [
        {
          "output_type": "stream",
          "name": "stdout",
          "text": [
            "20\n",
            "    20.123    \n",
            "       30\n",
            "000000030\n",
            "20|    20.123    |       30\n"
          ]
        }
      ]
    },
    {
      "cell_type": "markdown",
      "source": [
        "# ASCII"
      ],
      "metadata": {
        "id": "LApp2FsMQn72"
      }
    },
    {
      "cell_type": "code",
      "source": [
        "\"\"\"\n",
        "\n",
        "Machines do not understand characters or decimals. \n",
        "Only binary numbers (0s and 1s)\n",
        "Every character is converted to an integer number called the “ASCII code”.\n",
        "The ASCII code is converted to binary numbers.\n",
        "ASCII (American Standard Code for Information Interchange) is a code for representing any character typed using keyboards as numbers, assigned from 0 to 127.\n",
        "You can convert a character to its corresponding ASCII value using ord(character) function and convert number to its corresponding character using chr(int) function.\n",
        "\n",
        "\"\"\""
      ],
      "metadata": {
        "id": "zwLmT34KQqBS"
      },
      "execution_count": null,
      "outputs": []
    },
    {
      "cell_type": "code",
      "source": [
        "print(ord('a'))\n",
        "print(ord('A'))\n",
        "print(ord('z'))\n",
        "print(chr(97))\n",
        "print(chr(65))"
      ],
      "metadata": {
        "colab": {
          "base_uri": "https://localhost:8080/"
        },
        "id": "BfwMWurcQx_X",
        "outputId": "b8317d02-38bb-4273-9df9-287a834e0532"
      },
      "execution_count": null,
      "outputs": [
        {
          "output_type": "stream",
          "name": "stdout",
          "text": [
            "97\n",
            "65\n",
            "122\n",
            "a\n",
            "A\n"
          ]
        }
      ]
    },
    {
      "cell_type": "markdown",
      "source": [
        "# String Functions"
      ],
      "metadata": {
        "id": "nw4kJAN5RNUr"
      }
    },
    {
      "cell_type": "code",
      "source": [
        "\"\"\"\n",
        "\n",
        "lower() returns a copy of the string with all lower case letters.\n",
        "upper() returns a copy of the string with all upper case letters.\n",
        "strip() returns a copy of the string with all whitespace removed before and after the string.\n",
        "count(substring) returns total occurrence of substring in the main string.\n",
        "startswith(substring) returns True if the string starts with given substring; Otherwise returns False.\n",
        "endswith(substring) returns True if the string starts with given substring; Otherwise returns False.\n",
        "find(substring) returns the index of first occurrence of substring in the main string.\n",
        "replace(oldstring, newstring)  replaces every instance of the oldstring with newstring.\n",
        "\n",
        "\"\"\""
      ],
      "metadata": {
        "id": "tGCZHmPrROxP"
      },
      "execution_count": null,
      "outputs": []
    },
    {
      "cell_type": "markdown",
      "source": [
        "![2022-06-02_08-36.png](data:image/png;base64,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)"
      ],
      "metadata": {
        "id": "JBlSTs0iRZ-Y"
      }
    },
    {
      "cell_type": "code",
      "source": [
        "# Use dir(String) to see all the methods in String class.\n",
        "# Run this instruction:  dir('Hello')"
      ],
      "metadata": {
        "id": "wQzIg3-4Rd4t"
      },
      "execution_count": null,
      "outputs": []
    },
    {
      "cell_type": "code",
      "source": [
        "dir('Hello')"
      ],
      "metadata": {
        "colab": {
          "base_uri": "https://localhost:8080/"
        },
        "id": "1dOlYVw0Rm4f",
        "outputId": "c6f4c736-6b2a-4f27-e0fe-04c157e3616d"
      },
      "execution_count": null,
      "outputs": [
        {
          "output_type": "execute_result",
          "data": {
            "text/plain": [
              "['__add__',\n",
              " '__class__',\n",
              " '__contains__',\n",
              " '__delattr__',\n",
              " '__dir__',\n",
              " '__doc__',\n",
              " '__eq__',\n",
              " '__format__',\n",
              " '__ge__',\n",
              " '__getattribute__',\n",
              " '__getitem__',\n",
              " '__getnewargs__',\n",
              " '__gt__',\n",
              " '__hash__',\n",
              " '__init__',\n",
              " '__init_subclass__',\n",
              " '__iter__',\n",
              " '__le__',\n",
              " '__len__',\n",
              " '__lt__',\n",
              " '__mod__',\n",
              " '__mul__',\n",
              " '__ne__',\n",
              " '__new__',\n",
              " '__reduce__',\n",
              " '__reduce_ex__',\n",
              " '__repr__',\n",
              " '__rmod__',\n",
              " '__rmul__',\n",
              " '__setattr__',\n",
              " '__sizeof__',\n",
              " '__str__',\n",
              " '__subclasshook__',\n",
              " 'capitalize',\n",
              " 'casefold',\n",
              " 'center',\n",
              " 'count',\n",
              " 'encode',\n",
              " 'endswith',\n",
              " 'expandtabs',\n",
              " 'find',\n",
              " 'format',\n",
              " 'format_map',\n",
              " 'index',\n",
              " 'isalnum',\n",
              " 'isalpha',\n",
              " 'isascii',\n",
              " 'isdecimal',\n",
              " 'isdigit',\n",
              " 'isidentifier',\n",
              " 'islower',\n",
              " 'isnumeric',\n",
              " 'isprintable',\n",
              " 'isspace',\n",
              " 'istitle',\n",
              " 'isupper',\n",
              " 'join',\n",
              " 'ljust',\n",
              " 'lower',\n",
              " 'lstrip',\n",
              " 'maketrans',\n",
              " 'partition',\n",
              " 'replace',\n",
              " 'rfind',\n",
              " 'rindex',\n",
              " 'rjust',\n",
              " 'rpartition',\n",
              " 'rsplit',\n",
              " 'rstrip',\n",
              " 'split',\n",
              " 'splitlines',\n",
              " 'startswith',\n",
              " 'strip',\n",
              " 'swapcase',\n",
              " 'title',\n",
              " 'translate',\n",
              " 'upper',\n",
              " 'zfill']"
            ]
          },
          "metadata": {},
          "execution_count": 46
        }
      ]
    },
    {
      "cell_type": "markdown",
      "source": [
        "# List"
      ],
      "metadata": {
        "id": "zef-CRrfRzcT"
      }
    },
    {
      "cell_type": "code",
      "source": [
        "\"\"\"\n",
        "\n",
        "List is a sequence of values called items or elements.\n",
        "The elements can be of any data type.\n",
        "Each value has a location (an index).\n",
        "Indexes range from 0 to n-1 where n is the length of the list.\n",
        "List is mutable, meaning, their elements can be changed.\n",
        "Values are enclosed in [], myList = [1, 2, 3].\n",
        "\n",
        "\"\"\""
      ],
      "metadata": {
        "colab": {
          "base_uri": "https://localhost:8080/",
          "height": 54
        },
        "id": "Ye1BWk4JR2Sy",
        "outputId": "a7653e91-593b-451c-849c-eedd9d185b85"
      },
      "execution_count": null,
      "outputs": [
        {
          "output_type": "execute_result",
          "data": {
            "text/plain": [
              "'\\n\\nList is a sequence of values called items or elements.\\nThe elements can be of any data type.\\nEach value has a location (an index).\\nIndexes range from 0 to n-1 where n is the length of the list.\\nList is mutable, meaning, their elements can be changed.\\nValues are enclosed in [], myList = [1, 2, 3].\\n\\n'"
            ],
            "application/vnd.google.colaboratory.intrinsic+json": {
              "type": "string"
            }
          },
          "metadata": {},
          "execution_count": 47
        }
      ]
    },
    {
      "cell_type": "code",
      "source": [
        "# A list is created by placing all the elements inside a square bracket [ ], separated by commas.\n",
        "# It can have any number of items and they may be of different types  (integer, float, string etc.)."
      ],
      "metadata": {
        "id": "Ribaos8sR7Sl"
      },
      "execution_count": null,
      "outputs": []
    },
    {
      "cell_type": "code",
      "source": [
        "# Empty List\n",
        "\n",
        "my_list = []"
      ],
      "metadata": {
        "id": "qpXKHQe-SChR"
      },
      "execution_count": null,
      "outputs": []
    },
    {
      "cell_type": "code",
      "source": [
        "# List of Integers\n",
        "\n",
        "my_list = [2, 4, 6]"
      ],
      "metadata": {
        "id": "nW8eokJgSIFq"
      },
      "execution_count": null,
      "outputs": []
    },
    {
      "cell_type": "code",
      "source": [
        "# List with Mixed Types of Data\n",
        "\n",
        "my_list = [2, \"ABC\", 4.5]"
      ],
      "metadata": {
        "id": "Ve9CEHsSSMLl"
      },
      "execution_count": null,
      "outputs": []
    },
    {
      "cell_type": "code",
      "source": [
        "# Nested List \n",
        "\n",
        "my_list = [\"Hello\", [\"CSE110\", \"CSE111\"]]"
      ],
      "metadata": {
        "id": "TBGnU-etSTHu"
      },
      "execution_count": null,
      "outputs": []
    },
    {
      "cell_type": "code",
      "source": [
        "# Creating a list by by using list constructor"
      ],
      "metadata": {
        "id": "d49VyknpScor"
      },
      "execution_count": null,
      "outputs": []
    },
    {
      "cell_type": "code",
      "source": [
        "# empty list\n",
        "my_list = list()\n",
        "\n",
        "# list of integers \n",
        "my_list = list([1, 2, 3])"
      ],
      "metadata": {
        "id": "ZqlM2TYPShWQ"
      },
      "execution_count": null,
      "outputs": []
    },
    {
      "cell_type": "code",
      "source": [
        "# Length of a List \n",
        "\n",
        "a = [1, 2, 3]\n",
        "\n",
        "print(len(a))"
      ],
      "metadata": {
        "colab": {
          "base_uri": "https://localhost:8080/"
        },
        "id": "YPJSYnwXStXk",
        "outputId": "a742352e-81aa-43e2-af3d-984f81e2ce8e"
      },
      "execution_count": null,
      "outputs": [
        {
          "output_type": "stream",
          "name": "stdout",
          "text": [
            "3\n"
          ]
        }
      ]
    },
    {
      "cell_type": "markdown",
      "source": [
        "# Indexing of List"
      ],
      "metadata": {
        "id": "J9gwxbXuS4OS"
      }
    },
    {
      "cell_type": "code",
      "source": [
        "\"\"\"\n",
        "\n",
        "Just like strings, list can also be accessed using indexing method.\n",
        "Range: Index starts at 0 and ends at n-1.\n",
        "Type: Index must be an integer.\n",
        "Index out of range will give IndexError. Different type will give type error.\n",
        "Two indexing technique: Positive and Negative\n",
        "\n",
        "\"\"\""
      ],
      "metadata": {
        "id": "ukBbFQTOS55h"
      },
      "execution_count": null,
      "outputs": []
    },
    {
      "cell_type": "markdown",
      "source": [
        "![2022-06-02_08-44.png](data:image/png;base64,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)"
      ],
      "metadata": {
        "id": "Fvg6UcLETMlR"
      }
    },
    {
      "cell_type": "code",
      "source": [
        "# Access items from a list\n",
        "\n",
        "\"\"\"\n",
        "\n",
        "Use the index operator [] to access an item in a list\n",
        "The index starts at 0 just like with a string and goes up to n-1 if there are n elements in the list\n",
        "They also can use negative subscripts, -1 is the last element on the right, -n on the left end\n",
        "   \n",
        "\"\"\""
      ],
      "metadata": {
        "colab": {
          "base_uri": "https://localhost:8080/",
          "height": 54
        },
        "id": "MzKC4MGPTN9r",
        "outputId": "6984c1e0-1b9b-40cb-f3ba-0fff609cdc7a"
      },
      "execution_count": null,
      "outputs": [
        {
          "output_type": "execute_result",
          "data": {
            "text/plain": [
              "'\\n\\nUse the index operator [] to access an item in a list\\nThe index starts at 0 just like with a string and goes up to n-1 if there are n elements in the list\\nThey also can use negative subscripts, -1 is the last element on the right, -n on the left end\\n   \\n'"
            ],
            "application/vnd.google.colaboratory.intrinsic+json": {
              "type": "string"
            }
          },
          "metadata": {},
          "execution_count": 56
        }
      ]
    },
    {
      "cell_type": "code",
      "source": [
        "a = [11, 12, 13, 14, 15]\n",
        "print(a[2])   #Output will be 13\n",
        "print(a[-2])   #Output will be 14"
      ],
      "metadata": {
        "colab": {
          "base_uri": "https://localhost:8080/"
        },
        "id": "b8GHoR1dTYNr",
        "outputId": "cfcc65c8-25d1-4871-d3b5-79f73de09fd8"
      },
      "execution_count": null,
      "outputs": [
        {
          "output_type": "stream",
          "name": "stdout",
          "text": [
            "13\n",
            "14\n"
          ]
        }
      ]
    },
    {
      "cell_type": "code",
      "source": [
        "# This is acceptable\n",
        "players_list = ['Ronaldo', 'Messi', 'Neymar', 'Bale']\n",
        "\n",
        "print(players_list[1])  #Positive Indexing\n",
        "\n",
        "print(players_list[0])  #Positive Indexing\n",
        "\n",
        "print(players_list[-1])  #Negative Indexing\n"
      ],
      "metadata": {
        "colab": {
          "base_uri": "https://localhost:8080/"
        },
        "id": "jcPPjv9vTeG3",
        "outputId": "35e6e561-2e5d-426a-9c9f-ce052212c954"
      },
      "execution_count": null,
      "outputs": [
        {
          "output_type": "stream",
          "name": "stdout",
          "text": [
            "Messi\n",
            "Ronaldo\n",
            "Bale\n"
          ]
        }
      ]
    },
    {
      "cell_type": "code",
      "source": [
        "# This is not acceptable\n"
      ],
      "metadata": {
        "id": "7lDPs63-TsUV"
      },
      "execution_count": null,
      "outputs": []
    },
    {
      "cell_type": "code",
      "source": [
        "print(players_list[5]) # IndexError: list index out of range"
      ],
      "metadata": {
        "colab": {
          "base_uri": "https://localhost:8080/",
          "height": 171
        },
        "id": "M1X4QJepT238",
        "outputId": "a1f2f771-9d1f-4453-ce93-ff512cbf6693"
      },
      "execution_count": null,
      "outputs": [
        {
          "output_type": "error",
          "ename": "IndexError",
          "evalue": "ignored",
          "traceback": [
            "\u001b[0;31m---------------------------------------------------------------------------\u001b[0m",
            "\u001b[0;31mIndexError\u001b[0m                                Traceback (most recent call last)",
            "\u001b[0;32m<ipython-input-63-eadb6ef7e517>\u001b[0m in \u001b[0;36m<module>\u001b[0;34m()\u001b[0m\n\u001b[0;32m----> 1\u001b[0;31m \u001b[0mprint\u001b[0m\u001b[0;34m(\u001b[0m\u001b[0mplayers_list\u001b[0m\u001b[0;34m[\u001b[0m\u001b[0;36m5\u001b[0m\u001b[0;34m]\u001b[0m\u001b[0;34m)\u001b[0m \u001b[0;31m# IndexError: list index out of range\u001b[0m\u001b[0;34m\u001b[0m\u001b[0;34m\u001b[0m\u001b[0m\n\u001b[0m",
            "\u001b[0;31mIndexError\u001b[0m: list index out of range"
          ]
        }
      ]
    },
    {
      "cell_type": "code",
      "source": [
        "print(players_list[4.0]) # TypeError: list integer must be integer or slices"
      ],
      "metadata": {
        "colab": {
          "base_uri": "https://localhost:8080/",
          "height": 171
        },
        "id": "FzQZOvDUS-NF",
        "outputId": "7a0cf174-d5a3-4908-ed0f-8ca6d34de005"
      },
      "execution_count": null,
      "outputs": [
        {
          "output_type": "error",
          "ename": "TypeError",
          "evalue": "ignored",
          "traceback": [
            "\u001b[0;31m---------------------------------------------------------------------------\u001b[0m",
            "\u001b[0;31mTypeError\u001b[0m                                 Traceback (most recent call last)",
            "\u001b[0;32m<ipython-input-61-c44bb685f55b>\u001b[0m in \u001b[0;36m<module>\u001b[0;34m()\u001b[0m\n\u001b[0;32m----> 1\u001b[0;31m \u001b[0mprint\u001b[0m\u001b[0;34m(\u001b[0m\u001b[0mplayers_list\u001b[0m\u001b[0;34m[\u001b[0m\u001b[0;36m4.0\u001b[0m\u001b[0;34m]\u001b[0m\u001b[0;34m)\u001b[0m \u001b[0;31m# TypeError: list integer must be integer or slices\u001b[0m\u001b[0;34m\u001b[0m\u001b[0;34m\u001b[0m\u001b[0m\n\u001b[0m",
            "\u001b[0;31mTypeError\u001b[0m: list indices must be integers or slices, not float"
          ]
        }
      ]
    },
    {
      "cell_type": "code",
      "source": [
        "# List Mutability"
      ],
      "metadata": {
        "id": "k23vu4ebT57l"
      },
      "execution_count": null,
      "outputs": []
    },
    {
      "cell_type": "code",
      "source": [
        "\"\"\"\n",
        "\n",
        "Lists are mutable (changeable)\n",
        "Unlike Strings items in list can easily be changed:\n",
        "Can easily change an existing element                         \n",
        "Can easily append/add new elements \n",
        "Can easily delete/remove elements\n",
        "\n",
        "\"\"\""
      ],
      "metadata": {
        "id": "FvZV4hh-T_Q7"
      },
      "execution_count": null,
      "outputs": []
    },
    {
      "cell_type": "code",
      "source": [
        "# Example:\n",
        "\n",
        "players_list = ['Ronaldo', 'Messi', 'Neymar', 'Bale']\n",
        "print(players_list) # Output: ['Ronaldo', 'Messi', 'Neymar', 'Bale']\n",
        "\n",
        "print(players_list[2]) # Output: Neymar\n",
        "\n",
        "players_list[2] = 'Mbappe' #Neymar is replaced by Mbappe\n",
        "print(players_list) # Output: ['Ronaldo', 'Messi', 'Mbappe', 'Bale'] "
      ],
      "metadata": {
        "colab": {
          "base_uri": "https://localhost:8080/"
        },
        "id": "G8XMThRYUCCE",
        "outputId": "458bda1b-e0ca-4cd3-f989-f9df8dc267b1"
      },
      "execution_count": null,
      "outputs": [
        {
          "output_type": "stream",
          "name": "stdout",
          "text": [
            "['Ronaldo', 'Messi', 'Neymar', 'Bale']\n",
            "Neymar\n",
            "['Ronaldo', 'Messi', 'Mbappe', 'Bale']\n"
          ]
        }
      ]
    },
    {
      "cell_type": "code",
      "source": [
        "# Add items to a list"
      ],
      "metadata": {
        "id": "VOjKWOTCUUqs"
      },
      "execution_count": null,
      "outputs": []
    },
    {
      "cell_type": "code",
      "source": [
        "# Using the append(value) method\n",
        "\n",
        "cars = [\"BMW\", \"Audi\", \"Porsche\"]\n",
        "cars.append(\"Ford\")\n",
        "print(cars)"
      ],
      "metadata": {
        "colab": {
          "base_uri": "https://localhost:8080/"
        },
        "id": "bgBsBIVIUW6A",
        "outputId": "ae7df6bb-7a9d-461d-e910-565b4ec7870a"
      },
      "execution_count": null,
      "outputs": [
        {
          "output_type": "stream",
          "name": "stdout",
          "text": [
            "['BMW', 'Audi', 'Porsche', 'Ford']\n"
          ]
        }
      ]
    },
    {
      "cell_type": "code",
      "source": [
        "# Using the insert(index,value) method\n",
        "\n",
        "cars = [\"BMW\", \"Audi\", \"Porsche\"]\n",
        "cars.insert(1, \"Ford\")\n",
        "print(cars)"
      ],
      "metadata": {
        "colab": {
          "base_uri": "https://localhost:8080/"
        },
        "id": "vgaomIyfUrIh",
        "outputId": "e6505a7b-a980-4d39-fc53-e5e5be34ff63"
      },
      "execution_count": null,
      "outputs": [
        {
          "output_type": "stream",
          "name": "stdout",
          "text": [
            "['BMW', 'Ford', 'Audi', 'Porsche']\n"
          ]
        }
      ]
    },
    {
      "cell_type": "code",
      "source": [
        "# Remove items from a list"
      ],
      "metadata": {
        "id": "KQ5fC4HsU1_Y"
      },
      "execution_count": null,
      "outputs": []
    },
    {
      "cell_type": "code",
      "source": [
        "# Using the pop(index) method\n",
        "\n",
        "cars = [\"BMW\", \"Audi\", \"Porsche\"]\n",
        "cars.pop(1)\n",
        "print(cars)"
      ],
      "metadata": {
        "colab": {
          "base_uri": "https://localhost:8080/"
        },
        "id": "0Y0JYFFBU5Cu",
        "outputId": "a4b2b556-950f-4510-f353-de22af30fd88"
      },
      "execution_count": null,
      "outputs": [
        {
          "output_type": "stream",
          "name": "stdout",
          "text": [
            "['BMW', 'Porsche']\n"
          ]
        }
      ]
    },
    {
      "cell_type": "code",
      "source": [
        "# Using pop() method\n",
        "\n",
        "cars = [\"BMW\", \"Audi\", \"Porsche\"]\n",
        "cars.pop()\n",
        "print(cars)"
      ],
      "metadata": {
        "colab": {
          "base_uri": "https://localhost:8080/"
        },
        "id": "b5Ulq-lmVD4V",
        "outputId": "c8f8dfe0-e449-4e18-ec4d-bce0f61ed8d5"
      },
      "execution_count": null,
      "outputs": [
        {
          "output_type": "stream",
          "name": "stdout",
          "text": [
            "['BMW', 'Audi']\n"
          ]
        }
      ]
    },
    {
      "cell_type": "code",
      "source": [
        "# Using the remove(value) method\n",
        "\n",
        "cars = [\"BMW\", \"Audi\", \"Porsche\"]\n",
        "cars.remove(\"Audi\")\n",
        "print(cars)"
      ],
      "metadata": {
        "colab": {
          "base_uri": "https://localhost:8080/"
        },
        "id": "IBw1RlE1VHy7",
        "outputId": "d1d55463-ac12-4815-a9fc-c612da9b7c99"
      },
      "execution_count": null,
      "outputs": [
        {
          "output_type": "stream",
          "name": "stdout",
          "text": [
            "['BMW', 'Porsche']\n"
          ]
        }
      ]
    },
    {
      "cell_type": "code",
      "source": [
        "# Using the del keyword\n",
        "\n",
        "cars = [\"BMW\", \"Audi\", \"Porsche\"]\n",
        "del cars[0]\n",
        "print(cars)\n"
      ],
      "metadata": {
        "colab": {
          "base_uri": "https://localhost:8080/"
        },
        "id": "cZof6nSYVSlh",
        "outputId": "aecd61ba-1522-4a01-bb65-6561013a15d3"
      },
      "execution_count": null,
      "outputs": [
        {
          "output_type": "stream",
          "name": "stdout",
          "text": [
            "['Audi', 'Porsche']\n"
          ]
        }
      ]
    },
    {
      "cell_type": "code",
      "source": [
        "cars = [\"BMW\", \"Audi\", \"Porsche\"]\n",
        "cars.clear()\n",
        "print(cars)"
      ],
      "metadata": {
        "colab": {
          "base_uri": "https://localhost:8080/"
        },
        "id": "4ZLYgGEqVYfy",
        "outputId": "58a04a07-8181-420f-d4ea-e17d83e5789b"
      },
      "execution_count": null,
      "outputs": [
        {
          "output_type": "stream",
          "name": "stdout",
          "text": [
            "[]\n"
          ]
        }
      ]
    },
    {
      "cell_type": "code",
      "source": [
        "# Copying a list"
      ],
      "metadata": {
        "id": "gECs1dpuVeHw"
      },
      "execution_count": null,
      "outputs": []
    },
    {
      "cell_type": "code",
      "source": [
        "# Using the copy() method\n",
        "\n",
        "cars = [\"BMW\", \"Audi\", \"Porsche\"]\n",
        "cars2 = cars.copy()\n",
        "print(\"cars : \", cars)\n",
        "print(\"cars2 : \", cars2)"
      ],
      "metadata": {
        "colab": {
          "base_uri": "https://localhost:8080/"
        },
        "id": "hjAVN63AVgaa",
        "outputId": "8490a1af-1a8e-4589-fbc9-1e0e5de40b70"
      },
      "execution_count": null,
      "outputs": [
        {
          "output_type": "stream",
          "name": "stdout",
          "text": [
            "cars :  ['BMW', 'Audi', 'Porsche']\n",
            "cars2 :  ['BMW', 'Audi', 'Porsche']\n"
          ]
        }
      ]
    },
    {
      "cell_type": "code",
      "source": [
        "# Joining two list"
      ],
      "metadata": {
        "id": "YIuIwrbwVyNn"
      },
      "execution_count": null,
      "outputs": []
    },
    {
      "cell_type": "code",
      "source": [
        "# Using the (+) operator\n",
        "\n",
        "list1 = [1, 2, 3]\n",
        "list2 = [4, 5, 6]\n",
        "list3 = list1 + list2\n",
        "print(\"list3 : \", list3)"
      ],
      "metadata": {
        "colab": {
          "base_uri": "https://localhost:8080/"
        },
        "id": "62aA0eRQV1bO",
        "outputId": "467e482c-30fb-4f32-f25f-500684f9d034"
      },
      "execution_count": null,
      "outputs": [
        {
          "output_type": "stream",
          "name": "stdout",
          "text": [
            "list3 :  [1, 2, 3, 4, 5, 6]\n"
          ]
        }
      ]
    },
    {
      "cell_type": "code",
      "source": [
        "# Using the extend(list) method\n",
        "\n",
        "list1 = [1, 2, 3]\n",
        "list2 = [4, 5, 6]\n",
        "list1.extend(list2)\n",
        "print(\"list1 : \", list1)"
      ],
      "metadata": {
        "colab": {
          "base_uri": "https://localhost:8080/"
        },
        "id": "CpGefcrHWB7a",
        "outputId": "d9bda261-653e-4e47-9c95-be5b05e52336"
      },
      "execution_count": null,
      "outputs": [
        {
          "output_type": "stream",
          "name": "stdout",
          "text": [
            "list1 :  [1, 2, 3, 4, 5, 6]\n"
          ]
        }
      ]
    },
    {
      "cell_type": "markdown",
      "source": [
        "# List Slicing"
      ],
      "metadata": {
        "id": "hwFeRQtQWSsD"
      }
    },
    {
      "cell_type": "code",
      "source": [
        "\"\"\"\n",
        "\n",
        "list[start:end:step]\n",
        "    start(inclusive): specifies the starting index. If not provided, starts at 0.\n",
        "    end(exclusive): specifies the ending index. If not provided, ends at last index.\n",
        "    step(optional): specifies the increment\n",
        "the return value will be a new list with the specified items\n",
        "\n",
        "\"\"\""
      ],
      "metadata": {
        "id": "SqUgfVfiWVAQ"
      },
      "execution_count": null,
      "outputs": []
    },
    {
      "cell_type": "code",
      "source": [
        "#           0         1       2       3       4        5         6\n",
        "#           -7       -6      -5       -4     -3        -2        -1\n",
        "colors = [\"Black\", \"White\", \"Red\", \"Blue\", \"Green\", \"Purple\", \"Yellow\"]\n",
        "clr = colors[1:4]\n",
        "print(clr)            #Output will be: ['White', 'Red', 'Blue']\n",
        "print(colors[:4])     #Output will be: ['Black', 'White', 'Red', 'Blue']\n",
        "print(colors[3:])     #Output will be: ['Blue', 'Green', 'Purple', 'Yellow']\n",
        "print(colors[-4:-1])  #Output will be: ['Blue', 'Green', 'Purple']"
      ],
      "metadata": {
        "colab": {
          "base_uri": "https://localhost:8080/"
        },
        "id": "IIE5OchXWfs2",
        "outputId": "856c05a0-f14c-4d53-b9c0-6474dca6ddaa"
      },
      "execution_count": null,
      "outputs": [
        {
          "output_type": "stream",
          "name": "stdout",
          "text": [
            "['White', 'Red', 'Blue']\n",
            "['Black', 'White', 'Red', 'Blue']\n",
            "['Blue', 'Green', 'Purple', 'Yellow']\n",
            "['Blue', 'Green', 'Purple']\n"
          ]
        }
      ]
    },
    {
      "cell_type": "markdown",
      "source": [
        "# List Methods"
      ],
      "metadata": {
        "id": "9Nlsa7wUXP1e"
      }
    },
    {
      "cell_type": "markdown",
      "source": [
        "![2022-06-02_09-02.png](data:image/png;base64,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)"
      ],
      "metadata": {
        "id": "Qym0uAGaXXFw"
      }
    },
    {
      "cell_type": "code",
      "source": [
        "list = [2, 10, 5, 7]\n",
        "print(list)\n",
        "\n",
        "list.sort()\n",
        "print(list)"
      ],
      "metadata": {
        "colab": {
          "base_uri": "https://localhost:8080/"
        },
        "id": "-RoTGEsLXYoA",
        "outputId": "9a9d9742-c7ba-4bf1-bab7-e7a4c419cd1a"
      },
      "execution_count": null,
      "outputs": [
        {
          "output_type": "stream",
          "name": "stdout",
          "text": [
            "[2, 10, 5, 7]\n",
            "[2, 5, 7, 10]\n"
          ]
        }
      ]
    },
    {
      "cell_type": "code",
      "source": [
        "list = [2, 10, 5, 7]\n",
        "list.reverse()\n",
        "print(list)"
      ],
      "metadata": {
        "colab": {
          "base_uri": "https://localhost:8080/"
        },
        "id": "nosFBCgsXoh6",
        "outputId": "ba9b2f2d-c397-47a3-9849-63b287db6bb7"
      },
      "execution_count": null,
      "outputs": [
        {
          "output_type": "stream",
          "name": "stdout",
          "text": [
            "[7, 5, 10, 2]\n"
          ]
        }
      ]
    },
    {
      "cell_type": "code",
      "source": [
        "list = [2, 5, 6, 2, 7]\n",
        "print(list.index(2))"
      ],
      "metadata": {
        "colab": {
          "base_uri": "https://localhost:8080/"
        },
        "id": "LWt7IraXXtoa",
        "outputId": "b1744cd0-b54c-49a0-b3ef-b0daded9ac2f"
      },
      "execution_count": null,
      "outputs": [
        {
          "output_type": "stream",
          "name": "stdout",
          "text": [
            "0\n"
          ]
        }
      ]
    },
    {
      "cell_type": "code",
      "source": [
        "list = [2, 5, 6, 2, 7]\n",
        "print(list.count(2))"
      ],
      "metadata": {
        "colab": {
          "base_uri": "https://localhost:8080/"
        },
        "id": "yrJwi766X2ly",
        "outputId": "d25636ec-f228-4344-9fed-4744cfcc40ba"
      },
      "execution_count": null,
      "outputs": [
        {
          "output_type": "stream",
          "name": "stdout",
          "text": [
            "2\n"
          ]
        }
      ]
    }
  ]
}